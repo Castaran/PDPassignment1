{
 "cells": [
  {
   "cell_type": "code",
   "execution_count": 125,
   "metadata": {},
   "outputs": [],
   "source": [
    "import csv\n",
    "import pandas as pd\n",
    "from sklearn.preprocessing import StandardScaler\n",
    "from sklearn.linear_model import LinearRegression\n",
    "from sklearn.model_selection import train_test_split\n",
    "import matplotlib.pyplot as plt\n",
    "import numpy as np\n",
    "import seaborn as sns\n",
    "from sklearn.feature_selection import f_regression\n",
    "from sklearn.linear_model import LinearRegression\n",
    "from sklearn.metrics import mean_squared_error, mean_absolute_error, r2_score\n",
    "from sklearn.pipeline import Pipeline\n",
    "from sklearn.compose import ColumnTransformer"
   ]
  },
  {
   "cell_type": "code",
   "execution_count": 126,
   "metadata": {},
   "outputs": [
    {
     "name": "stderr",
     "output_type": "stream",
     "text": [
      "/var/folders/rk/6k3gdwwd7470n5mn_07yrgkc0000gn/T/ipykernel_14795/1142002548.py:2: FutureWarning: The error_bad_lines argument has been deprecated and will be removed in a future version. Use on_bad_lines in the future.\n",
      "\n",
      "\n",
      "  df = pd.read_csv(bestandsnaam, sep=',', error_bad_lines=False)\n"
     ]
    }
   ],
   "source": [
    "bestandsnaam = 'Spotify_Youtube.csv'\n",
    "df = pd.read_csv(bestandsnaam, sep=',', error_bad_lines=False)"
   ]
  },
  {
   "cell_type": "code",
   "execution_count": 127,
   "metadata": {},
   "outputs": [
    {
     "name": "stdout",
     "output_type": "stream",
     "text": [
      "['Unnamed: 0', 'Artist', 'Url_spotify', 'Track', 'Album', 'Album_type', 'Uri', 'Danceability', 'Energy', 'Key', 'Loudness', 'Speechiness', 'Acousticness', 'Instrumentalness', 'Liveness', 'Valence', 'Tempo', 'Duration_ms', 'Url_youtube', 'Title', 'Channel', 'Views', 'Likes', 'Comments', 'Description', 'Licensed', 'official_video', 'Stream']\n"
     ]
    }
   ],
   "source": [
    "print(df.columns.tolist())"
   ]
  },
  {
   "cell_type": "code",
   "execution_count": 128,
   "metadata": {},
   "outputs": [],
   "source": [
    "# Toevoegen van twee nieuwe features\n",
    "df[\"Time Streamed (hours)\"] = df[\"Duration_ms\"] * df[\"Stream\"] / (1000 * 60 * 60)\n",
    "df[\"Time Streamed (hours)\"] = df[\"Time Streamed (hours)\"].round(decimals=1)\n",
    "df[\"Like Percentage\"] = (df[\"Likes\"] / df[\"Views\"]) * 100"
   ]
  },
  {
   "cell_type": "code",
   "execution_count": 129,
   "metadata": {},
   "outputs": [
    {
     "name": "stdout",
     "output_type": "stream",
     "text": [
      "         Views  Duration_ms  Comments      Likes  Danceability  Energy   Key  \\\n",
      "0  693555221.0     222640.0  169907.0  6220896.0         0.818   0.705   6.0   \n",
      "1   72011645.0     200173.0   31003.0  1079128.0         0.676   0.703   8.0   \n",
      "2    8435055.0     215150.0    7399.0   282142.0         0.695   0.923   1.0   \n",
      "3  211754952.0     233867.0   55229.0  1788577.0         0.689   0.739   2.0   \n",
      "4  618480958.0     340920.0  155930.0  6197318.0         0.663   0.694  10.0   \n",
      "5  259021161.0     245000.0   72008.0  1844658.0         0.760   0.891  11.0   \n",
      "6     451996.0     274142.0     241.0    11686.0         0.716   0.897   4.0   \n",
      "7    1010982.0     209560.0     260.0    17675.0         0.726   0.815  11.0   \n",
      "8   24459820.0     213750.0   20296.0   739527.0         0.741   0.913   2.0   \n",
      "9  154761056.0     230426.0   39240.0  1386920.0         0.625   0.877  10.0   \n",
      "\n",
      "   Loudness  Speechiness  Acousticness  Instrumentalness  Valence    Tempo  \\\n",
      "0    -6.679       0.1770      0.008360          0.002330    0.772  138.559   \n",
      "1    -5.815       0.0302      0.086900          0.000687    0.852   92.761   \n",
      "2    -3.930       0.0522      0.042500          0.046900    0.551  108.014   \n",
      "3    -5.810       0.0260      0.000015          0.509000    0.578  120.423   \n",
      "4    -8.627       0.1710      0.025300          0.000000    0.525  167.953   \n",
      "5    -5.852       0.0372      0.022900          0.086900    0.966  120.264   \n",
      "6    -7.185       0.0629      0.012000          0.262000    0.358  127.030   \n",
      "7    -5.886       0.0313      0.007990          0.081000    0.462  140.158   \n",
      "8    -3.340       0.0465      0.003430          0.103000    0.643  120.012   \n",
      "9    -7.176       0.1620      0.031500          0.081100    0.865  192.296   \n",
      "\n",
      "   Licensed  official_video  \n",
      "0         1               1  \n",
      "1         1               1  \n",
      "2         1               1  \n",
      "3         1               1  \n",
      "4         1               1  \n",
      "5         1               1  \n",
      "6         0               1  \n",
      "7         0               0  \n",
      "8         1               1  \n",
      "9         1               1  \n"
     ]
    }
   ],
   "source": [
    "# Data preprocessing\n",
    "# Dit zijn de waardes waar we onze voorspellingen op kunnen baseren\n",
    "df['Views'].fillna(df['Views'].mean(), inplace=True)\n",
    "df['Duration_ms'].fillna(df['Duration_ms'].mean(), inplace=True)\n",
    "df['Comments'].fillna(df['Comments'].mean(), inplace=True)\n",
    "df['Likes'].fillna(df['Likes'].mean(), inplace=True)\n",
    "df['Danceability'].fillna(df['Danceability'].mean(), inplace=True)\n",
    "df['Energy'].fillna(df['Energy'].mean(), inplace=True)\n",
    "df['Key'].fillna(df['Key'].mean(), inplace=True)\n",
    "df['Loudness'].fillna(df['Loudness'].mean(), inplace=True)\n",
    "df['Speechiness'].fillna(df['Speechiness'].mean(), inplace=True)\n",
    "df['Acousticness'].fillna(df['Acousticness'].mean(), inplace=True)\n",
    "df['Instrumentalness'].fillna(df['Instrumentalness'].mean(), inplace=True)\n",
    "df['Valence'].fillna(df['Valence'].mean(), inplace=True)\n",
    "df['Tempo'].fillna(df['Tempo'].mean(), inplace=True)\n",
    "df['Licensed'].fillna(df['Licensed'].mean(), inplace=True)\n",
    "df['official_video'].fillna(df['official_video'].mean(), inplace=True)\n",
    "df['Stream'].fillna(df['Stream'].mean(), inplace=True)\n",
    "\n",
    "# Dit zijn eigenlijk True/False waardes, maar die kunnen we omzetten naar int en op die manier ook gebruiken om mee te voorspellen\n",
    "df['Licensed'] = df['Licensed'].astype(int)\n",
    "df['official_video'] = df['official_video'].astype(int)\n",
    "\n",
    "# Dit willen we voorspellen, waardes die ontbreken vervangen we door 0 om zo het verschil te kunnen zien tussen wat wij voorspellen en of het eventueel ontbreekt.\n",
    "selected_columns = ['Views', 'Duration_ms', 'Comments', 'Likes', 'Danceability', 'Energy', 'Key', 'Loudness', 'Speechiness', 'Acousticness', 'Instrumentalness', 'Valence', 'Tempo', 'Licensed', 'official_video']\n",
    "\n",
    "print(df[selected_columns].head(10))\n"
   ]
  },
  {
   "cell_type": "code",
   "execution_count": 130,
   "metadata": {},
   "outputs": [
    {
     "name": "stdout",
     "output_type": "stream",
     "text": [
      "      Views  Duration_ms  Comments     Likes  Danceability  Energy   Key  \\\n",
      "0  2.208499    -0.016650  0.747216  3.147394         0.818   0.705   6.0   \n",
      "1 -0.080758    -0.196700  0.018283  0.235471         0.676   0.703   8.0   \n",
      "2 -0.314922    -0.076675 -0.105585 -0.215883         0.695   0.923   1.0   \n",
      "3  0.433942     0.073324  0.145415  0.637252         0.689   0.739   2.0   \n",
      "4  1.931987     0.931247  0.673868  3.134041         0.663   0.694  10.0   \n",
      "5  0.608032     0.162543  0.233467  0.669012         0.760   0.891  11.0   \n",
      "6 -0.344325     0.396088 -0.143148 -0.369050         0.716   0.897   4.0   \n",
      "7 -0.342266    -0.121473 -0.143048 -0.365658         0.726   0.815  11.0   \n",
      "8 -0.255900    -0.087894 -0.037904  0.043146         0.741   0.913   2.0   \n",
      "9  0.224023     0.045747  0.061509  0.409782         0.625   0.877  10.0   \n",
      "\n",
      "   Loudness  Speechiness  Acousticness  Instrumentalness  Valence    Tempo  \\\n",
      "0    -6.679       0.1770      0.008360          0.002330    0.772  138.559   \n",
      "1    -5.815       0.0302      0.086900          0.000687    0.852   92.761   \n",
      "2    -3.930       0.0522      0.042500          0.046900    0.551  108.014   \n",
      "3    -5.810       0.0260      0.000015          0.509000    0.578  120.423   \n",
      "4    -8.627       0.1710      0.025300          0.000000    0.525  167.953   \n",
      "5    -5.852       0.0372      0.022900          0.086900    0.966  120.264   \n",
      "6    -7.185       0.0629      0.012000          0.262000    0.358  127.030   \n",
      "7    -5.886       0.0313      0.007990          0.081000    0.462  140.158   \n",
      "8    -3.340       0.0465      0.003430          0.103000    0.643  120.012   \n",
      "9    -7.176       0.1620      0.031500          0.081100    0.865  192.296   \n",
      "\n",
      "   Licensed  official_video        Stream  \n",
      "0         1               1  1.040235e+09  \n",
      "1         1               1  3.100837e+08  \n",
      "2         1               1  6.306347e+07  \n",
      "3         1               1  4.346636e+08  \n",
      "4         1               1  6.172597e+08  \n",
      "5         1               1  3.238503e+08  \n",
      "6         0               1  1.066615e+07  \n",
      "7         0               0  1.596059e+08  \n",
      "8         1               1  4.267190e+07  \n",
      "9         1               1  1.910747e+08  \n"
     ]
    }
   ],
   "source": [
    "# Het schalen van de data die erg groot is\n",
    "scaler = StandardScaler()\n",
    "df[['Views', 'Comments', 'Likes', 'Duration_ms']] = scaler.fit_transform(df[['Views', 'Comments', 'Likes', 'Duration_ms']])\n",
    "\n",
    "selected_columns = ['Views', 'Duration_ms', 'Comments', 'Likes', 'Danceability', 'Energy', 'Key', 'Loudness', 'Speechiness', 'Acousticness', 'Instrumentalness', 'Valence', 'Tempo', 'Licensed', 'official_video', 'Stream']\n",
    "\n",
    "print(df[selected_columns].head(10))\n",
    "\n",
    "df = df[selected_columns]"
   ]
  },
  {
   "cell_type": "code",
   "execution_count": 131,
   "metadata": {},
   "outputs": [],
   "source": [
    "# Kenmerken (features) en doelvariabele (target) selecteren\n",
    "X = df[['Views', 'Duration_ms', 'Comments', 'Likes', 'Danceability', 'Energy', 'Key', 'Loudness', 'Speechiness', 'Acousticness', 'Instrumentalness', 'Valence', 'Tempo', 'Licensed', 'official_video']\n",
    "].values\n",
    "y = df['Stream'].values\n",
    "\n",
    "# Trainingsdata en testdata splitsen\n",
    "X_train, X_test, y_train, y_test = train_test_split(X, y, test_size=0.2, random_state=42)\n",
    "\n",
    "# Lineair regressiemodel initialiseren en trainen\n",
    "model = LinearRegression()\n",
    "model.fit(X_train, y_train)\n",
    "\n",
    "# Voorspellingen maken op de testdata\n",
    "y_pred = model.predict(X_test)\n"
   ]
  },
  {
   "cell_type": "code",
   "execution_count": 132,
   "metadata": {},
   "outputs": [
    {
     "name": "stdout",
     "output_type": "stream",
     "text": [
      "Gemiddelde kwadratische fout (MSE): 2.9299637696201684e+16\n",
      "Gemiddelde absolute fout (MAE): 96378752.78852002\n",
      "Coëfficiënt van determinatie (R^2): 0.4661708785876377\n"
     ]
    }
   ],
   "source": [
    "mse = mean_squared_error(y_test, y_pred)\n",
    "print('Gemiddelde kwadratische fout (MSE):', mse)\n",
    "\n",
    "mae = mean_absolute_error(y_test, y_pred)\n",
    "print('Gemiddelde absolute fout (MAE):', mae)\n",
    "\n",
    "r2 = r2_score(y_test, y_pred)\n",
    "print('Coëfficiënt van determinatie (R^2):', r2)\n"
   ]
  },
  {
   "cell_type": "code",
   "execution_count": 133,
   "metadata": {},
   "outputs": [],
   "source": [
    "# Kenmerken (features) en doelvariabele (target) selecteren\n",
    "X = df[['Views', 'Duration_ms', 'Comments', 'Likes', 'Danceability', 'Energy', 'Key', 'Loudness', 'Speechiness', 'Acousticness', 'Instrumentalness', 'Valence', 'Tempo', 'Licensed', 'official_video']].values\n",
    "y = df['Stream'].values\n",
    "\n",
    "# Lijsten voor de scores initialiseren\n",
    "mse_scores = []\n",
    "mae_scores = []\n",
    "r2_scores = []\n",
    "\n",
    "# Loop over elke variabele en bereken de scores\n",
    "for i, feature in enumerate(df.columns[:-1]):\n",
    "    # Kenmerk (feature) selecteren\n",
    "    X_feature = X[:, i].reshape(-1, 1)\n",
    "\n",
    "    # Trainingsdata en testdata splitsen\n",
    "    X_train, X_test, y_train, y_test = train_test_split(X_feature, y, test_size=0.2, random_state=42)\n",
    "\n",
    "    # Lineair regressiemodel initialiseren en trainen\n",
    "    model = LinearRegression()\n",
    "    model.fit(X_train, y_train)\n",
    "\n",
    "    # Voorspellingen maken op de testdata\n",
    "    y_pred = model.predict(X_test)\n",
    "\n",
    "    # Scores berekenen\n",
    "    mse = mean_squared_error(y_test, y_pred)\n",
    "    mae = mean_absolute_error(y_test, y_pred)\n",
    "    r2 = r2_score(y_test, y_pred)\n",
    "\n",
    "    # Scores toevoegen aan de lijsten\n",
    "    mse_scores.append(mse)\n",
    "    mae_scores.append(mae)\n",
    "    r2_scores.append(r2)\n",
    "\n",
    "# Sorteren op basis van de MSE-scores in oplopende volgorde\n",
    "sorted_scores = sorted(zip(df.columns[:-1], mse_scores, mae_scores, r2_scores), key=lambda x: x[1])\n",
    "\n",
    "# Top 10 resultaten opslaan in een .txt-bestand\n",
    "with open('resultaten.txt', 'w') as file:\n",
    "    file.write(\"Top 10 geselecteerde variabelen:\\n\")\n",
    "    for feature, mse, mae, r2 in sorted_scores[:10]:\n",
    "        file.write(f\"Variabele: {feature}\\n\")\n",
    "        file.write(f\"MSE: {mse:.2f}\\n\")\n",
    "        file.write(f\"MAE: {mae:.2f}\\n\")\n",
    "        file.write(f\"R^2: {r2:.2f}\\n\")\n",
    "        file.write(\"\\n\")\n"
   ]
  },
  {
   "cell_type": "code",
   "execution_count": 134,
   "metadata": {},
   "outputs": [
    {
     "name": "stdout",
     "output_type": "stream",
     "text": [
      "Gemiddelde kwadratische fout (MSE): 2.971279631864412e+16\n",
      "Coëfficiënt van determinatie (R^2): 0.4586432734100836\n"
     ]
    }
   ],
   "source": [
    "# Kenmerken (features) en doelvariabele (target) selecteren\n",
    "X = df[['Views', 'Comments', 'Likes']\n",
    "].values\n",
    "y = df['Stream'].values\n",
    "\n",
    "# Trainingsdata en testdata splitsen\n",
    "X_train, X_test, y_train, y_test = train_test_split(X, y, test_size=0.2, random_state=42)\n",
    "\n",
    "# Lineair regressiemodel initialiseren en trainen\n",
    "model = LinearRegression()\n",
    "model.fit(X_train, y_train)\n",
    "\n",
    "# Voorspellingen maken op de testdata\n",
    "y_pred = model.predict(X_test)\n",
    "\n",
    "mse = mean_squared_error(y_test, y_pred)\n",
    "print('Gemiddelde kwadratische fout (MSE):', mse)\n",
    "\n",
    "r2 = r2_score(y_test, y_pred)\n",
    "print('Coëfficiënt van determinatie (R^2):', r2)"
   ]
  },
  {
   "cell_type": "code",
   "execution_count": 138,
   "metadata": {},
   "outputs": [
    {
     "name": "stdout",
     "output_type": "stream",
     "text": [
      "Gemiddelde kwadratische fout (MSE): 2.971279631864412e+16\n",
      "Coëfficiënt van determinatie (R^2): 0.4586432734100836\n"
     ]
    }
   ],
   "source": [
    "# Kenmerken (features) en doelvariabele (target) selecteren\n",
    "X = df[['Views', 'Comments', 'Likes']].values\n",
    "y = df['Stream'].values\n",
    "\n",
    "# Maak de pipeline\n",
    "pipeline = Pipeline([\n",
    "    ('scaler', StandardScaler()),\n",
    "    ('regressor', LinearRegression())\n",
    "])\n",
    "\n",
    "# Trainingsdata en testdata splitsen en model trainen\n",
    "pipeline.fit(X_train, y_train)\n",
    "\n",
    "# Voorspellingen maken op de testdata\n",
    "y_pred = pipeline.predict(X_test)\n",
    "\n",
    "# Berekenen van de MSE en R^2 scores\n",
    "mse = mean_squared_error(y_test, y_pred)\n",
    "r2 = r2_score(y_test, y_pred)\n",
    "\n",
    "# Afdrukken van de scores\n",
    "print('Gemiddelde kwadratische fout (MSE):', mse)\n",
    "print('Coëfficiënt van determinatie (R^2):', r2)\n"
   ]
  }
 ],
 "metadata": {
  "kernelspec": {
   "display_name": "Python 3",
   "language": "python",
   "name": "python3"
  },
  "language_info": {
   "codemirror_mode": {
    "name": "ipython",
    "version": 3
   },
   "file_extension": ".py",
   "mimetype": "text/x-python",
   "name": "python",
   "nbconvert_exporter": "python",
   "pygments_lexer": "ipython3",
   "version": "3.9.13"
  },
  "orig_nbformat": 4
 },
 "nbformat": 4,
 "nbformat_minor": 2
}
